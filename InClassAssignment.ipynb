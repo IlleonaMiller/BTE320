{
  "nbformat": 4,
  "nbformat_minor": 0,
  "metadata": {
    "colab": {
      "provenance": [],
      "authorship_tag": "ABX9TyM+TumsUlEZDUNxkK9it1h3",
      "include_colab_link": true
    },
    "kernelspec": {
      "name": "python3",
      "display_name": "Python 3"
    },
    "language_info": {
      "name": "python"
    }
  },
  "cells": [
    {
      "cell_type": "markdown",
      "metadata": {
        "id": "view-in-github",
        "colab_type": "text"
      },
      "source": [
        "<a href=\"https://colab.research.google.com/github/IlleonaMiller/BTE320/blob/main/InClassAssignment.ipynb\" target=\"_parent\"><img src=\"https://colab.research.google.com/assets/colab-badge.svg\" alt=\"Open In Colab\"/></a>"
      ]
    },
    {
      "cell_type": "markdown",
      "source": [
        "Assignment 1"
      ],
      "metadata": {
        "id": "VA5ZbvDhcvag"
      }
    },
    {
      "cell_type": "code",
      "execution_count": 45,
      "metadata": {
        "colab": {
          "base_uri": "https://localhost:8080/"
        },
        "id": "eazpq27JaN_V",
        "outputId": "466a83a0-f415-4486-8495-6d00e6056b96"
      },
      "outputs": [
        {
          "output_type": "stream",
          "name": "stdout",
          "text": [
            "Enter Sales ($): 12000\n",
            "Enter Tax Rate (%): 30\n",
            "Sales: $12000.0\n",
            "Cost of Goods Sold: $4800.0\n",
            "Gross Profit: $7200.0\n",
            "Taxes: $2160.0\n",
            "Net Profit: $5040.0\n"
          ]
        }
      ],
      "source": [
        "# Enter _\n",
        "sales = float(input(\"Enter Sales ($): \"))\n",
        "tax = float(input(\"Enter Tax Rate (%): \"))\n",
        "\n",
        "# Sales\n",
        "print(f\"Sales: ${sales}\")\n",
        "\n",
        "# Cost of Goods Sold\n",
        "cog = 0.4\n",
        "cog_sold = sales * cog\n",
        "print(f\"Cost of Goods Sold: ${cog_sold}\")\n",
        "\n",
        "# Gross Proft\n",
        "gross_profit = sales - (sales * cog)\n",
        "print(f\"Gross Profit: ${gross_profit}\")\n",
        "\n",
        "# Taxes\n",
        "Tax = gross_profit * (tax / 100)\n",
        "print(f\"Taxes: ${Tax}\")\n",
        "\n",
        "# Net Profit\n",
        "net_profit = gross_profit - Tax\n",
        "print(f\"Net Profit: ${net_profit}\")"
      ]
    },
    {
      "cell_type": "code",
      "source": [],
      "metadata": {
        "id": "hli8-SDIbqQX"
      },
      "execution_count": 19,
      "outputs": []
    }
  ]
}