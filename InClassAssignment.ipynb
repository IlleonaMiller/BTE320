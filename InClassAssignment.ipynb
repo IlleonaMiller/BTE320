{
  "nbformat": 4,
  "nbformat_minor": 0,
  "metadata": {
    "colab": {
      "provenance": [],
      "authorship_tag": "ABX9TyM6B9APMm4dtxJSfpHyVqVv",
      "include_colab_link": true
    },
    "kernelspec": {
      "name": "python3",
      "display_name": "Python 3"
    },
    "language_info": {
      "name": "python"
    }
  },
  "cells": [
    {
      "cell_type": "markdown",
      "metadata": {
        "id": "view-in-github",
        "colab_type": "text"
      },
      "source": [
        "<a href=\"https://colab.research.google.com/github/IlleonaMiller/BTE320/blob/main/InClassAssignment.ipynb\" target=\"_parent\"><img src=\"https://colab.research.google.com/assets/colab-badge.svg\" alt=\"Open In Colab\"/></a>"
      ]
    },
    {
      "cell_type": "markdown",
      "source": [
        "Assignment 09 - 02"
      ],
      "metadata": {
        "id": "VA5ZbvDhcvag"
      }
    },
    {
      "cell_type": "code",
      "execution_count": null,
      "metadata": {
        "colab": {
          "base_uri": "https://localhost:8080/"
        },
        "id": "eazpq27JaN_V",
        "outputId": "466a83a0-f415-4486-8495-6d00e6056b96"
      },
      "outputs": [
        {
          "output_type": "stream",
          "name": "stdout",
          "text": [
            "Enter Sales ($): 12000\n",
            "Enter Tax Rate (%): 30\n",
            "Sales: $12000.0\n",
            "Cost of Goods Sold: $4800.0\n",
            "Gross Profit: $7200.0\n",
            "Taxes: $2160.0\n",
            "Net Profit: $5040.0\n"
          ]
        }
      ],
      "source": [
        "# Enter _\n",
        "sales = float(input(\"Enter Sales ($): \"))\n",
        "tax = float(input(\"Enter Tax Rate (%): \"))\n",
        "\n",
        "# Sales\n",
        "print(f\"Sales: ${sales}\")\n",
        "\n",
        "# Cost of Goods Sold\n",
        "cog = 0.4\n",
        "cog_sold = sales * cog\n",
        "print(f\"Cost of Goods Sold: ${cog_sold}\")\n",
        "\n",
        "# Gross Proft\n",
        "gross_profit = sales - (sales * cog)\n",
        "print(f\"Gross Profit: ${gross_profit}\")\n",
        "\n",
        "# Taxes\n",
        "Tax = gross_profit * (tax / 100)\n",
        "print(f\"Taxes: ${Tax}\")\n",
        "\n",
        "# Net Profit\n",
        "net_profit = gross_profit - Tax\n",
        "print(f\"Net Profit: ${net_profit}\")"
      ]
    },
    {
      "cell_type": "markdown",
      "source": [
        "Assignment 09 - 04"
      ],
      "metadata": {
        "id": "9uTkO69wmwBk"
      }
    },
    {
      "cell_type": "code",
      "source": [
        "# Demand\n",
        "Demand = input(\"Enter Demand (Units/Year): \")\n",
        "Demand = int(Demand)\n",
        "\n",
        "# Reorder Costs\n",
        "Reorder = input(\"Enter Reorder Cost ($/Unit): \")\n",
        "Reorder = float(Reorder)\n",
        "\n",
        "# Holding Costs\n",
        "Holding = input(\"Enter Holding Cost ($/Unit/Year): \")\n",
        "Holding = float(Holding)\n",
        "\n",
        "# Calculating EOC\n",
        "EOQ=((2*Demand*Reorder)/Holding)**0.5\n",
        "\n",
        "# Display EOC\n",
        "print(f\"Economic Order Quantity: {EOQ} Units\")"
      ],
      "metadata": {
        "id": "hli8-SDIbqQX",
        "colab": {
          "base_uri": "https://localhost:8080/"
        },
        "outputId": "682fe4cf-4610-4903-c3d0-c9eb4c49a012"
      },
      "execution_count": null,
      "outputs": [
        {
          "output_type": "stream",
          "name": "stdout",
          "text": [
            "Enter Demand (Units/Year): 100\n",
            "Enter Reorder Cost ($/Unit): 1.5\n",
            "Enter Holding Cost ($/Unit/Year): 3\n",
            "Economic Order Quantity: 10.0 Units\n"
          ]
        }
      ]
    },
    {
      "cell_type": "markdown",
      "source": [
        "Assignment 09 - 11"
      ],
      "metadata": {
        "id": "EZQfjwSoq5QB"
      }
    },
    {
      "cell_type": "code",
      "source": [
        "num1 = float(input(\"First Number = \"))\n",
        "num2 = float(input(\"Second Number = \"))\n",
        "op = input(\"Choose Numerical Operator (+,-,*,/,//,**,%)): \")\n",
        "\n",
        "if op == \"+\":\n",
        "  print(f\"{num1} + {num2} = {num1+num2}\")\n",
        "elif op == \"-\":\n",
        "  print(f\"{num1} - {num2} = {num1-num2}\")\n",
        "elif op == \"*\":\n",
        "  print(f\"{num1} * {num2} = {num1*num2}\")\n",
        "elif op == \"/\":\n",
        "  print(f\"{num1} / {num2} = {num1/num2}\")\n",
        "elif op == \"//\":\n",
        "  print(f\"{num1} // {num2} = {num1//num2}\")\n",
        "elif op == \"**\":\n",
        "  print(f\"{num1} ** {num2} = {num1**num2}\")\n",
        "elif op == \"%\":\n",
        "  print(f\"{num1} mod {num2} = {num1%num2}\")\n",
        "else:\n",
        "  print(\"Invalid Operator\")"
      ],
      "metadata": {
        "colab": {
          "base_uri": "https://localhost:8080/"
        },
        "id": "4v-xnmPhu2zL",
        "outputId": "4815ad77-9410-4546-b98a-832162f8fc9a"
      },
      "execution_count": null,
      "outputs": [
        {
          "output_type": "stream",
          "name": "stdout",
          "text": [
            "First Number = 8\n",
            "Second Number = 5\n",
            "Choose Numerical Operator (+,-,*,/,//,**,%)): #\n",
            "Invalid Operator\n"
          ]
        }
      ]
    },
    {
      "cell_type": "markdown",
      "source": [
        "Assignment 09 - 16"
      ],
      "metadata": {
        "id": "9liKeh7VbvAY"
      }
    },
    {
      "cell_type": "code",
      "source": [
        "print(\"# of Hours\\tFee\")\n",
        "print(\"--------------------\")\n",
        "for hours in range(1,9,1):\n",
        "  print(f\"{hours}\\t\\t{5+hours*2.5}\")"
      ],
      "metadata": {
        "colab": {
          "base_uri": "https://localhost:8080/"
        },
        "id": "xCNe1PAabzWg",
        "outputId": "93dccdd9-0ea7-486e-dabe-cf7d3f49d09d"
      },
      "execution_count": null,
      "outputs": [
        {
          "output_type": "stream",
          "name": "stdout",
          "text": [
            "# of Hours\tFee\n",
            "--------------------\n",
            "1\t\t7.5\n",
            "2\t\t10.0\n",
            "3\t\t12.5\n",
            "4\t\t15.0\n",
            "5\t\t17.5\n",
            "6\t\t20.0\n",
            "7\t\t22.5\n",
            "8\t\t25.0\n"
          ]
        }
      ]
    },
    {
      "cell_type": "code",
      "source": [
        "# Bonus Part\n",
        "print(\"# of Hours\\tFee\")\n",
        "print(\"--------------------\")\n",
        "for hours in range(1,9,1):\n",
        "  fee = 5+hours*2.5\n",
        "  if fee<10:\n",
        "    fee=10.0\n",
        "  elif fee>20:\n",
        "    fee=20.0\n",
        "  else:\n",
        "    fee=fee\n",
        "  print(f\"{hours}\\t\\t{fee}\")\n"
      ],
      "metadata": {
        "colab": {
          "base_uri": "https://localhost:8080/"
        },
        "id": "DQZ4xueAgnSg",
        "outputId": "6848c1a2-3e16-4a84-f7a2-a6f1b13eab38"
      },
      "execution_count": null,
      "outputs": [
        {
          "output_type": "stream",
          "name": "stdout",
          "text": [
            "# of Hours\tFee\n",
            "--------------------\n",
            "1\t\t10.0\n",
            "2\t\t10.0\n",
            "3\t\t12.5\n",
            "4\t\t15.0\n",
            "5\t\t17.5\n",
            "6\t\t20.0\n",
            "7\t\t20.0\n",
            "8\t\t20.0\n"
          ]
        }
      ]
    },
    {
      "cell_type": "markdown",
      "source": [
        "Assignment 09 - 18"
      ],
      "metadata": {
        "id": "bYbJwnQNuvvB"
      }
    },
    {
      "cell_type": "code",
      "source": [
        "for ad in range(0,201,25):\n",
        "  revenue = 10*(20+2*ad**0.5) - 200 - ad\n",
        "  print(ad, round(revenue))\n"
      ],
      "metadata": {
        "colab": {
          "base_uri": "https://localhost:8080/"
        },
        "id": "DmU_Y_mVuyjP",
        "outputId": "a3d048b6-7b5a-463a-835f-8a6df90e2496"
      },
      "execution_count": null,
      "outputs": [
        {
          "output_type": "stream",
          "name": "stdout",
          "text": [
            "0 0\n",
            "25 75\n",
            "50 91\n",
            "75 98\n",
            "100 100\n",
            "125 99\n",
            "150 95\n",
            "175 90\n",
            "200 83\n"
          ]
        }
      ]
    },
    {
      "cell_type": "markdown",
      "source": [
        "Assignment 09 - 25"
      ],
      "metadata": {
        "id": "35uHVgBJzEwU"
      }
    },
    {
      "cell_type": "code",
      "source": [
        "numbers = []\n",
        "num = float(input(\"Enter a number:\"))\n",
        "\n",
        "while num != 0:\n",
        "  numbers.append(num)\n",
        "  num = float(input(\"Enter another number:\"))\n",
        "\n",
        "numbers.sort(reverse=True)\n",
        "print(numbers)"
      ],
      "metadata": {
        "colab": {
          "base_uri": "https://localhost:8080/"
        },
        "id": "AwW5-dpCzIxD",
        "outputId": "65b8b175-c1c3-4c8d-dc73-6891e8ae0f16"
      },
      "execution_count": 15,
      "outputs": [
        {
          "output_type": "stream",
          "name": "stdout",
          "text": [
            "Enter a number:5\n",
            "Enter another number:4\n",
            "Enter another number:6\n",
            "Enter another number:2\n",
            "Enter another number:0\n",
            "[6.0, 5.0, 4.0, 2.0]\n"
          ]
        }
      ]
    }
  ]
}