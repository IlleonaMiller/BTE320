{
  "cells": [
    {
      "cell_type": "markdown",
      "metadata": {
        "id": "view-in-github",
        "colab_type": "text"
      },
      "source": [
        "<a href=\"https://colab.research.google.com/github/IlleonaMiller/BTE320/blob/main/InClassAssignment.ipynb\" target=\"_parent\"><img src=\"https://colab.research.google.com/assets/colab-badge.svg\" alt=\"Open In Colab\"/></a>"
      ]
    },
    {
      "cell_type": "markdown",
      "metadata": {
        "id": "VA5ZbvDhcvag"
      },
      "source": [
        "Assignment 09 - 02"
      ]
    },
    {
      "cell_type": "code",
      "execution_count": null,
      "metadata": {
        "colab": {
          "base_uri": "https://localhost:8080/"
        },
        "id": "eazpq27JaN_V",
        "outputId": "466a83a0-f415-4486-8495-6d00e6056b96"
      },
      "outputs": [
        {
          "name": "stdout",
          "output_type": "stream",
          "text": [
            "Enter Sales ($): 12000\n",
            "Enter Tax Rate (%): 30\n",
            "Sales: $12000.0\n",
            "Cost of Goods Sold: $4800.0\n",
            "Gross Profit: $7200.0\n",
            "Taxes: $2160.0\n",
            "Net Profit: $5040.0\n"
          ]
        }
      ],
      "source": [
        "# Enter _\n",
        "sales = float(input(\"Enter Sales ($): \"))\n",
        "tax = float(input(\"Enter Tax Rate (%): \"))\n",
        "\n",
        "# Sales\n",
        "print(f\"Sales: ${sales}\")\n",
        "\n",
        "# Cost of Goods Sold\n",
        "cog = 0.4\n",
        "cog_sold = sales * cog\n",
        "print(f\"Cost of Goods Sold: ${cog_sold}\")\n",
        "\n",
        "# Gross Proft\n",
        "gross_profit = sales - (sales * cog)\n",
        "print(f\"Gross Profit: ${gross_profit}\")\n",
        "\n",
        "# Taxes\n",
        "Tax = gross_profit * (tax / 100)\n",
        "print(f\"Taxes: ${Tax}\")\n",
        "\n",
        "# Net Profit\n",
        "net_profit = gross_profit - Tax\n",
        "print(f\"Net Profit: ${net_profit}\")"
      ]
    },
    {
      "cell_type": "markdown",
      "metadata": {
        "id": "9uTkO69wmwBk"
      },
      "source": [
        "Assignment 09 - 04"
      ]
    },
    {
      "cell_type": "code",
      "execution_count": null,
      "metadata": {
        "colab": {
          "base_uri": "https://localhost:8080/"
        },
        "id": "hli8-SDIbqQX",
        "outputId": "682fe4cf-4610-4903-c3d0-c9eb4c49a012"
      },
      "outputs": [
        {
          "name": "stdout",
          "output_type": "stream",
          "text": [
            "Enter Demand (Units/Year): 100\n",
            "Enter Reorder Cost ($/Unit): 1.5\n",
            "Enter Holding Cost ($/Unit/Year): 3\n",
            "Economic Order Quantity: 10.0 Units\n"
          ]
        }
      ],
      "source": [
        "# Demand\n",
        "Demand = input(\"Enter Demand (Units/Year): \")\n",
        "Demand = int(Demand)\n",
        "\n",
        "# Reorder Costs\n",
        "Reorder = input(\"Enter Reorder Cost ($/Unit): \")\n",
        "Reorder = float(Reorder)\n",
        "\n",
        "# Holding Costs\n",
        "Holding = input(\"Enter Holding Cost ($/Unit/Year): \")\n",
        "Holding = float(Holding)\n",
        "\n",
        "# Calculating EOC\n",
        "EOQ=((2*Demand*Reorder)/Holding)**0.5\n",
        "\n",
        "# Display EOC\n",
        "print(f\"Economic Order Quantity: {EOQ} Units\")"
      ]
    },
    {
      "cell_type": "markdown",
      "metadata": {
        "id": "EZQfjwSoq5QB"
      },
      "source": [
        "Assignment 09 -11"
      ]
    },
    {
      "cell_type": "code",
      "execution_count": null,
      "metadata": {
        "colab": {
          "base_uri": "https://localhost:8080/"
        },
        "id": "4v-xnmPhu2zL",
        "outputId": "4815ad77-9410-4546-b98a-832162f8fc9a"
      },
      "outputs": [
        {
          "name": "stdout",
          "output_type": "stream",
          "text": [
            "First Number = 8\n",
            "Second Number = 5\n",
            "Choose Numerical Operator (+,-,*,/,//,**,%)): #\n",
            "Invalid Operator\n"
          ]
        }
      ],
      "source": [
        "num1 = float(input(\"First Number = \"))\n",
        "num2 = float(input(\"Second Number = \"))\n",
        "op = input(\"Choose Numerical Operator (+,-,*,/,//,**,%)): \")\n",
        "\n",
        "if op == \"+\":\n",
        "  print(f\"{num1} + {num2} = {num1+num2}\")\n",
        "elif op == \"-\":\n",
        "  print(f\"{num1} - {num2} = {num1-num2}\")\n",
        "elif op == \"*\":\n",
        "  print(f\"{num1} * {num2} = {num1*num2}\")\n",
        "elif op == \"/\":\n",
        "  print(f\"{num1} / {num2} = {num1/num2}\")\n",
        "elif op == \"//\":\n",
        "  print(f\"{num1} // {num2} = {num1//num2}\")\n",
        "elif op == \"**\":\n",
        "  print(f\"{num1} ** {num2} = {num1**num2}\")\n",
        "elif op == \"%\":\n",
        "  print(f\"{num1} mod {num2} = {num1%num2}\")\n",
        "else:\n",
        "  print(\"Invalid Operator\")"
      ]
    },
    {
      "cell_type": "markdown",
      "metadata": {
        "id": "9liKeh7VbvAY"
      },
      "source": [
        "Assignment 09 - 16"
      ]
    },
    {
      "cell_type": "code",
      "execution_count": null,
      "metadata": {
        "colab": {
          "base_uri": "https://localhost:8080/"
        },
        "id": "xCNe1PAabzWg",
        "outputId": "93dccdd9-0ea7-486e-dabe-cf7d3f49d09d"
      },
      "outputs": [
        {
          "name": "stdout",
          "output_type": "stream",
          "text": [
            "# of Hours\tFee\n",
            "--------------------\n",
            "1\t\t7.5\n",
            "2\t\t10.0\n",
            "3\t\t12.5\n",
            "4\t\t15.0\n",
            "5\t\t17.5\n",
            "6\t\t20.0\n",
            "7\t\t22.5\n",
            "8\t\t25.0\n"
          ]
        }
      ],
      "source": [
        "print(\"# of Hours\\tFee\")\n",
        "print(\"--------------------\")\n",
        "for hours in range(1,9,1):\n",
        "  print(f\"{hours}\\t\\t{5+hours*2.5}\")"
      ]
    },
    {
      "cell_type": "code",
      "execution_count": null,
      "metadata": {
        "colab": {
          "base_uri": "https://localhost:8080/"
        },
        "id": "DQZ4xueAgnSg",
        "outputId": "6848c1a2-3e16-4a84-f7a2-a6f1b13eab38"
      },
      "outputs": [
        {
          "name": "stdout",
          "output_type": "stream",
          "text": [
            "# of Hours\tFee\n",
            "--------------------\n",
            "1\t\t10.0\n",
            "2\t\t10.0\n",
            "3\t\t12.5\n",
            "4\t\t15.0\n",
            "5\t\t17.5\n",
            "6\t\t20.0\n",
            "7\t\t20.0\n",
            "8\t\t20.0\n"
          ]
        }
      ],
      "source": [
        "# Bonus Part\n",
        "print(\"# of Hours\\tFee\")\n",
        "print(\"--------------------\")\n",
        "for hours in range(1,9,1):\n",
        "  fee = 5+hours*2.5\n",
        "  if fee<10:\n",
        "    fee=10.0\n",
        "  elif fee>20:\n",
        "    fee=20.0\n",
        "  else:\n",
        "    fee=fee\n",
        "  print(f\"{hours}\\t\\t{fee}\")\n"
      ]
    },
    {
      "cell_type": "markdown",
      "metadata": {
        "id": "bYbJwnQNuvvB"
      },
      "source": [
        "Assignment 09 - 18"
      ]
    },
    {
      "cell_type": "code",
      "execution_count": null,
      "metadata": {
        "colab": {
          "base_uri": "https://localhost:8080/"
        },
        "id": "DmU_Y_mVuyjP",
        "outputId": "a3d048b6-7b5a-463a-835f-8a6df90e2496"
      },
      "outputs": [
        {
          "name": "stdout",
          "output_type": "stream",
          "text": [
            "0 0\n",
            "25 75\n",
            "50 91\n",
            "75 98\n",
            "100 100\n",
            "125 99\n",
            "150 95\n",
            "175 90\n",
            "200 83\n"
          ]
        }
      ],
      "source": [
        "for ad in range(0,201,25):\n",
        "  revenue = 10*(20+2*ad**0.5) - 200 - ad\n",
        "  print(ad, round(revenue))\n"
      ]
    },
    {
      "cell_type": "markdown",
      "metadata": {
        "id": "35uHVgBJzEwU"
      },
      "source": [
        "Assignment 09 - 25"
      ]
    },
    {
      "cell_type": "code",
      "execution_count": null,
      "metadata": {
        "colab": {
          "base_uri": "https://localhost:8080/"
        },
        "id": "AwW5-dpCzIxD",
        "outputId": "65b8b175-c1c3-4c8d-dc73-6891e8ae0f16"
      },
      "outputs": [
        {
          "name": "stdout",
          "output_type": "stream",
          "text": [
            "Enter a number:5\n",
            "Enter another number:4\n",
            "Enter another number:6\n",
            "Enter another number:2\n",
            "Enter another number:0\n",
            "[6.0, 5.0, 4.0, 2.0]\n"
          ]
        }
      ],
      "source": [
        "numbers = []\n",
        "num = float(input(\"Enter a number:\"))\n",
        "\n",
        "while num != 0:\n",
        "  numbers.append(num)\n",
        "  num = float(input(\"Enter another number:\"))\n",
        "\n",
        "numbers.sort(reverse=True)\n",
        "print(numbers)"
      ]
    },
    {
      "cell_type": "markdown",
      "metadata": {
        "id": "yVCMf9SMnxhS"
      },
      "source": [
        "Assignment 09 - 30"
      ]
    },
    {
      "cell_type": "code",
      "execution_count": null,
      "metadata": {
        "colab": {
          "background_save": true,
          "base_uri": "https://localhost:8080/"
        },
        "id": "keh3cFOOn0O5",
        "outputId": "b53a7d05-6b5b-4c64-8b75-1d74deddc659"
      },
      "outputs": [
        {
          "name": "stdout",
          "output_type": "stream",
          "text": [
            "Computer: Paper\n",
            "User: rock\n",
            "Computer Wins\n"
          ]
        }
      ],
      "source": [
        "import random\n",
        "\n",
        "play = input(\"Do you want to play? (Yes/No): \")\n",
        "while play == \"Yes\":\n",
        "  # Rock, Paper, Scissors game\n",
        "  computer = random.choice([\"Rock\", \"Paper\", \"Scissors\"])\n",
        "  user = input(\"User Choice (Rock, Paper, Scissors): \").strip().lower()\n",
        "  print(\"Computer:\", computer)\n",
        "  print(\"User:\", user)\n",
        "  if user == computer:\n",
        "    print(\"Draw\")\n",
        "  elif (\n",
        "      (user == \"Rock\" and computer == \"Scissors\") or\n",
        "      (user == \"Paper\" and computer == \"Rock\") or\n",
        "      (user == \"Scissors\" and computer == \"Paper\")\n",
        "  ):\n",
        "    print(\"User Wins\")\n",
        "  else:\n",
        "    print(\"Computer Wins\")\n",
        "  play = input(\"Do you want to play another game? (Yes/No): \").strip().lower()"
      ]
    },
    {
      "cell_type": "code",
      "execution_count": null,
      "metadata": {
        "colab": {
          "base_uri": "https://localhost:8080/"
        },
        "id": "56LwB-0mpp6k",
        "outputId": "1a3d31a3-5137-4307-deb5-cd700601fb2e"
      },
      "outputs": [
        {
          "name": "stdout",
          "output_type": "stream",
          "text": [
            "Do you want to play? (Yes/No): yes\n",
            "Do you want to play? (Yes/No): no\n",
            "Do you want to play? (Yes/No): no\n",
            "Do you want to play? (Yes/No): No\n"
          ]
        }
      ],
      "source": [
        "while True:\n",
        "  play = input(\"Do you want to play? (Yes/No): \")\n",
        "  if play == 'No': # Or play is != to 'Yes'\n",
        "    break\n",
        "  # Rock, Paper, Scicssors game"
      ]
    },
    {
      "cell_type": "markdown",
      "source": [
        "Assignment 10 - 02"
      ],
      "metadata": {
        "id": "2DPzEXik5zHB"
      }
    },
    {
      "cell_type": "code",
      "source": [
        "products = {\n",
        "    'P-01': 9.95,\n",
        "    'P-02': 10.50\n",
        "}\n",
        "id = input('Enter Product ID: ')\n",
        "\n",
        "if id in products:\n",
        "  print(f'Product ID: {id}, Price: ${products[id]}')\n",
        "else:\n",
        "  print(f'Product ID {id} Not Found')\n"
      ],
      "metadata": {
        "colab": {
          "base_uri": "https://localhost:8080/"
        },
        "id": "hhXSCskF524J",
        "outputId": "a8193a4d-2d54-4d5d-ba05-3a757aadf76f"
      },
      "execution_count": null,
      "outputs": [
        {
          "output_type": "stream",
          "name": "stdout",
          "text": [
            "Enter Product ID: 0\n",
            "Product ID 0 Not Found\n"
          ]
        }
      ]
    },
    {
      "cell_type": "markdown",
      "source": [
        "Assignment 10 - 02"
      ],
      "metadata": {
        "id": "RZn3WNET_ORP"
      }
    },
    {
      "cell_type": "code",
      "source": [
        "names = {}\n",
        "\n",
        "for i in range(5):\n",
        "  name = input(\"Enter a Name: \")\n",
        "\n",
        "  if name in names:\n",
        "    names[name] = names[name] + 1 # Another way of saying names[name] +=1\n",
        "  else:\n",
        "    names[name] = 1\n",
        "\n",
        "  print(names)"
      ],
      "metadata": {
        "colab": {
          "base_uri": "https://localhost:8080/"
        },
        "id": "0DiIpGte_MiD",
        "outputId": "c966d50c-38dc-4977-9b1a-e53e0afeaafd"
      },
      "execution_count": null,
      "outputs": [
        {
          "output_type": "stream",
          "name": "stdout",
          "text": [
            "Enter a Name: Bob\n",
            "{'Bob': 1}\n",
            "Enter a Name: Alice\n",
            "{'Bob': 1, 'Alice': 1}\n",
            "Enter a Name: Bob\n",
            "{'Bob': 2, 'Alice': 1}\n",
            "Enter a Name: Eve\n",
            "{'Bob': 2, 'Alice': 1, 'Eve': 1}\n",
            "Enter a Name: Alice\n",
            "{'Bob': 2, 'Alice': 2, 'Eve': 1}\n"
          ]
        }
      ]
    },
    {
      "cell_type": "markdown",
      "source": [
        "Assignment 10 / 21"
      ],
      "metadata": {
        "id": "PrdQfe22x_t3"
      }
    },
    {
      "cell_type": "code",
      "source": [
        "def calcFee(h):\n",
        "  fee = 5 + 2.5 * h\n",
        "  if fee < 10:\n",
        "    return 10.0\n",
        "  elif fee > 20:\n",
        "    return 20.0\n",
        "  else:\n",
        "    return fee\n",
        "\n",
        "fee = calcFee(10)\n",
        "print(fee)"
      ],
      "metadata": {
        "colab": {
          "base_uri": "https://localhost:8080/"
        },
        "id": "-Fpk8G2MyCFx",
        "outputId": "cef40d5d-6f5c-4af1-e00e-95e89280e123"
      },
      "execution_count": null,
      "outputs": [
        {
          "output_type": "stream",
          "name": "stdout",
          "text": [
            "20.0\n"
          ]
        }
      ]
    },
    {
      "cell_type": "code",
      "source": [
        "# Bonus\n",
        "\n",
        "def calcFee(h):\n",
        "  fee = 5 + 2.5 * h\n",
        "  if fee < 10:\n",
        "    return 10.0\n",
        "  elif fee > 20:\n",
        "    return 20.0\n",
        "  else:\n",
        "    return fee\n",
        "\n",
        "def main():\n",
        "  hours = int(input('Enter Numbe of Hours: '))\n",
        "  fee = calcFee(hours)\n",
        "  print(fee)\n",
        "\n",
        "if __name__ == \"__main__\":\n",
        "  main()"
      ],
      "metadata": {
        "colab": {
          "base_uri": "https://localhost:8080/"
        },
        "id": "74IL34wq16S8",
        "outputId": "8c2024ca-e8f4-442e-8bb2-b32456c89f07"
      },
      "execution_count": null,
      "outputs": [
        {
          "output_type": "stream",
          "name": "stdout",
          "text": [
            "Enter Numbe of Hours: 3\n",
            "12.5\n"
          ]
        }
      ]
    }
  ],
  "metadata": {
    "colab": {
      "provenance": [],
      "authorship_tag": "ABX9TyPrjMa5ezOaDwn+Xypwl2Id",
      "include_colab_link": true
    },
    "kernelspec": {
      "display_name": "Python 3",
      "name": "python3"
    },
    "language_info": {
      "name": "python"
    }
  },
  "nbformat": 4,
  "nbformat_minor": 0
}