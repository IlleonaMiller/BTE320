{
  "nbformat": 4,
  "nbformat_minor": 0,
  "metadata": {
    "colab": {
      "provenance": [],
      "authorship_tag": "ABX9TyODnJsdKXWRMoUHenwccmkI",
      "include_colab_link": true
    },
    "kernelspec": {
      "name": "python3",
      "display_name": "Python 3"
    },
    "language_info": {
      "name": "python"
    }
  },
  "cells": [
    {
      "cell_type": "markdown",
      "metadata": {
        "id": "view-in-github",
        "colab_type": "text"
      },
      "source": [
        "<a href=\"https://colab.research.google.com/github/IlleonaMiller/BTE320/blob/main/InClassAssignment.ipynb\" target=\"_parent\"><img src=\"https://colab.research.google.com/assets/colab-badge.svg\" alt=\"Open In Colab\"/></a>"
      ]
    },
    {
      "cell_type": "markdown",
      "source": [
        "Assignment 09 - 02"
      ],
      "metadata": {
        "id": "VA5ZbvDhcvag"
      }
    },
    {
      "cell_type": "code",
      "execution_count": null,
      "metadata": {
        "colab": {
          "base_uri": "https://localhost:8080/"
        },
        "id": "eazpq27JaN_V",
        "outputId": "466a83a0-f415-4486-8495-6d00e6056b96"
      },
      "outputs": [
        {
          "output_type": "stream",
          "name": "stdout",
          "text": [
            "Enter Sales ($): 12000\n",
            "Enter Tax Rate (%): 30\n",
            "Sales: $12000.0\n",
            "Cost of Goods Sold: $4800.0\n",
            "Gross Profit: $7200.0\n",
            "Taxes: $2160.0\n",
            "Net Profit: $5040.0\n"
          ]
        }
      ],
      "source": [
        "# Enter _\n",
        "sales = float(input(\"Enter Sales ($): \"))\n",
        "tax = float(input(\"Enter Tax Rate (%): \"))\n",
        "\n",
        "# Sales\n",
        "print(f\"Sales: ${sales}\")\n",
        "\n",
        "# Cost of Goods Sold\n",
        "cog = 0.4\n",
        "cog_sold = sales * cog\n",
        "print(f\"Cost of Goods Sold: ${cog_sold}\")\n",
        "\n",
        "# Gross Proft\n",
        "gross_profit = sales - (sales * cog)\n",
        "print(f\"Gross Profit: ${gross_profit}\")\n",
        "\n",
        "# Taxes\n",
        "Tax = gross_profit * (tax / 100)\n",
        "print(f\"Taxes: ${Tax}\")\n",
        "\n",
        "# Net Profit\n",
        "net_profit = gross_profit - Tax\n",
        "print(f\"Net Profit: ${net_profit}\")"
      ]
    },
    {
      "cell_type": "markdown",
      "source": [
        "Assignment 09 - 04"
      ],
      "metadata": {
        "id": "9uTkO69wmwBk"
      }
    },
    {
      "cell_type": "code",
      "source": [
        "# Demand\n",
        "Demand = input(\"Enter Demand (Units/Year): \")\n",
        "Demand = int(Demand)\n",
        "\n",
        "# Reorder Costs\n",
        "Reorder = input(\"Enter Reorder Cost ($/Unit): \")\n",
        "Reorder = float(Reorder)\n",
        "\n",
        "# Holding Costs\n",
        "Holding = input(\"Enter Holding Cost ($/Unit/Year): \")\n",
        "Holding = float(Holding)\n",
        "\n",
        "# Calculating EOC\n",
        "EOQ=((2*Demand*Reorder)/Holding)**0.5\n",
        "\n",
        "# Display EOC\n",
        "print(f\"Economic Order Quantity: {EOQ} Units\")"
      ],
      "metadata": {
        "id": "hli8-SDIbqQX",
        "colab": {
          "base_uri": "https://localhost:8080/"
        },
        "outputId": "682fe4cf-4610-4903-c3d0-c9eb4c49a012"
      },
      "execution_count": null,
      "outputs": [
        {
          "output_type": "stream",
          "name": "stdout",
          "text": [
            "Enter Demand (Units/Year): 100\n",
            "Enter Reorder Cost ($/Unit): 1.5\n",
            "Enter Holding Cost ($/Unit/Year): 3\n",
            "Economic Order Quantity: 10.0 Units\n"
          ]
        }
      ]
    },
    {
      "cell_type": "markdown",
      "source": [
        "Assignment 09 - 11"
      ],
      "metadata": {
        "id": "EZQfjwSoq5QB"
      }
    },
    {
      "cell_type": "code",
      "source": [
        "num1 = float(input(\"First Number = \"))\n",
        "num2 = float(input(\"Second Number = \"))\n",
        "op = input(\"Choose Numerical Operator (+,-,*,/,//,**,%)): \")\n",
        "\n",
        "if op == \"+\":\n",
        "  print(f\"{num1} + {num2} = {num1+num2}\")\n",
        "elif op == \"-\":\n",
        "  print(f\"{num1} - {num2} = {num1-num2}\")\n",
        "elif op == \"*\":\n",
        "  print(f\"{num1} * {num2} = {num1*num2}\")\n",
        "elif op == \"/\":\n",
        "  print(f\"{num1} / {num2} = {num1/num2}\")\n",
        "elif op == \"//\":\n",
        "  print(f\"{num1} // {num2} = {num1//num2}\")\n",
        "elif op == \"**\":\n",
        "  print(f\"{num1} ** {num2} = {num1**num2}\")\n",
        "elif op == \"%\":\n",
        "  print(f\"{num1} mod {num2} = {num1%num2}\")\n",
        "else:\n",
        "  print(\"Invalid Operator\")"
      ],
      "metadata": {
        "colab": {
          "base_uri": "https://localhost:8080/"
        },
        "id": "4v-xnmPhu2zL",
        "outputId": "4815ad77-9410-4546-b98a-832162f8fc9a"
      },
      "execution_count": null,
      "outputs": [
        {
          "output_type": "stream",
          "name": "stdout",
          "text": [
            "First Number = 8\n",
            "Second Number = 5\n",
            "Choose Numerical Operator (+,-,*,/,//,**,%)): #\n",
            "Invalid Operator\n"
          ]
        }
      ]
    }
  ]
}